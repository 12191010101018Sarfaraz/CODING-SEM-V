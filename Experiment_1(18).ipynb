{
  "nbformat": 4,
  "nbformat_minor": 0,
  "metadata": {
    "colab": {
      "name": "Experiment 1(18).ipynb",
      "provenance": [],
      "authorship_tag": "ABX9TyMoAedF4ErY7a5BP3/fBAGa",
      "include_colab_link": true
    },
    "kernelspec": {
      "name": "python3",
      "display_name": "Python 3"
    },
    "language_info": {
      "name": "python"
    }
  },
  "cells": [
    {
      "cell_type": "markdown",
      "metadata": {
        "id": "view-in-github",
        "colab_type": "text"
      },
      "source": [
        "<a href=\"https://colab.research.google.com/github/12191010101018Sarfaraz/CODING-SEM-V/blob/main/Experiment_1(18).ipynb\" target=\"_parent\"><img src=\"https://colab.research.google.com/assets/colab-badge.svg\" alt=\"Open In Colab\"/></a>"
      ]
    },
    {
      "cell_type": "code",
      "metadata": {
        "colab": {
          "base_uri": "https://localhost:8080/"
        },
        "id": "TpNjhdEGPhpZ",
        "outputId": "8c6f9ab7-24ba-4d15-d790-9d6082899664"
      },
      "source": [
        "#print the numbers from 10 to 2 using for loop\n",
        "\n",
        "for i in range(10,1,-1):\n",
        "  print(i)"
      ],
      "execution_count": null,
      "outputs": [
        {
          "output_type": "stream",
          "text": [
            "10\n",
            "9\n",
            "8\n",
            "7\n",
            "6\n",
            "5\n",
            "4\n",
            "3\n",
            "2\n"
          ],
          "name": "stdout"
        }
      ]
    },
    {
      "cell_type": "code",
      "metadata": {
        "colab": {
          "base_uri": "https://localhost:8080/"
        },
        "id": "ceXArdu1MLc2",
        "outputId": "143d4fa0-63e7-4154-fca7-8d2683fe046c"
      },
      "source": [
        "#print the elements of the string 'SARFARAZ' using for loop\n",
        "\n",
        "str='SARFARAZ'\n",
        "for i in str:\n",
        "  print(i)"
      ],
      "execution_count": null,
      "outputs": [
        {
          "output_type": "stream",
          "text": [
            "S\n",
            "A\n",
            "R\n",
            "F\n",
            "A\n",
            "R\n",
            "A\n",
            "Z\n"
          ],
          "name": "stdout"
        }
      ]
    },
    {
      "cell_type": "code",
      "metadata": {
        "colab": {
          "base_uri": "https://localhost:8080/"
        },
        "id": "DzlpqkF2Q7xa",
        "outputId": "8a940183-f409-4815-eecb-78983890452c"
      },
      "source": [
        "#print the numbers from 1 to 20 with difference 2 using for loop\n",
        "\n",
        "for i in range(1,21,+2):\n",
        "  print(i)"
      ],
      "execution_count": null,
      "outputs": [
        {
          "output_type": "stream",
          "text": [
            "1\n",
            "3\n",
            "5\n",
            "7\n",
            "9\n",
            "11\n",
            "13\n",
            "15\n",
            "17\n",
            "19\n"
          ],
          "name": "stdout"
        }
      ]
    },
    {
      "cell_type": "code",
      "metadata": {
        "colab": {
          "base_uri": "https://localhost:8080/"
        },
        "id": "-P19pPEzVU2I",
        "outputId": "ed9e96f1-7c3a-4b2b-dc1f-e0cd95bac77a"
      },
      "source": [
        "#print the numbers 10 to 50 with numbers not divisible by 5\n",
        "\n",
        "for i in range(10,50):\n",
        "  if(i%5 !=0):\n",
        "    print(i)"
      ],
      "execution_count": null,
      "outputs": [
        {
          "output_type": "stream",
          "text": [
            "11\n",
            "12\n",
            "13\n",
            "14\n",
            "16\n",
            "17\n",
            "18\n",
            "19\n",
            "21\n",
            "22\n",
            "23\n",
            "24\n",
            "26\n",
            "27\n",
            "28\n",
            "29\n",
            "31\n",
            "32\n",
            "33\n",
            "34\n",
            "36\n",
            "37\n",
            "38\n",
            "39\n",
            "41\n",
            "42\n",
            "43\n",
            "44\n",
            "46\n",
            "47\n",
            "48\n",
            "49\n"
          ],
          "name": "stdout"
        }
      ]
    },
    {
      "cell_type": "code",
      "metadata": {
        "colab": {
          "base_uri": "https://localhost:8080/"
        },
        "id": "ePbZS6K6Oe96",
        "outputId": "d1f1a5ae-2b0c-4e57-db52-1e8c6444f6a5"
      },
      "source": [
        "#print the numbers 1 to 10 using for loop\n",
        "\n",
        "for i in range(1,11):\n",
        "  print(i)"
      ],
      "execution_count": null,
      "outputs": [
        {
          "output_type": "stream",
          "text": [
            "1\n",
            "2\n",
            "3\n",
            "4\n",
            "5\n",
            "6\n",
            "7\n",
            "8\n",
            "9\n",
            "10\n"
          ],
          "name": "stdout"
        }
      ]
    },
    {
      "cell_type": "code",
      "metadata": {
        "colab": {
          "base_uri": "https://localhost:8080/"
        },
        "id": "zVhku4Z3N84W",
        "outputId": "5d7053d3-1eb0-483e-f04a-7642ac5e967f"
      },
      "source": [
        "#print the elements of the list ['Rama',10,8.2] using for loop\n",
        "\n",
        "l=['Rama',8,10.2]\n",
        "for i in l:\n",
        "  print(i)"
      ],
      "execution_count": null,
      "outputs": [
        {
          "output_type": "stream",
          "text": [
            "Rama\n",
            "8\n",
            "10.2\n"
          ],
          "name": "stdout"
        }
      ]
    }
  ]
}