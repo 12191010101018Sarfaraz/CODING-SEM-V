{
  "nbformat": 4,
  "nbformat_minor": 0,
  "metadata": {
    "colab": {
      "name": "EXP 4(18).ipynb",
      "provenance": [],
      "authorship_tag": "ABX9TyPGjSiooC31brq752EkLj8v",
      "include_colab_link": true
    },
    "kernelspec": {
      "name": "python3",
      "display_name": "Python 3"
    },
    "language_info": {
      "name": "python"
    }
  },
  "cells": [
    {
      "cell_type": "markdown",
      "metadata": {
        "id": "view-in-github",
        "colab_type": "text"
      },
      "source": [
        "<a href=\"https://colab.research.google.com/github/12191010101018Sarfaraz/CODING-SEM-V/blob/main/EXP_4(18).ipynb\" target=\"_parent\"><img src=\"https://colab.research.google.com/assets/colab-badge.svg\" alt=\"Open In Colab\"/></a>"
      ]
    },
    {
      "cell_type": "code",
      "metadata": {
        "colab": {
          "base_uri": "https://localhost:8080/"
        },
        "id": "O6tdHSFXex5h",
        "outputId": "c13da698-d658-46e1-c8dc-e2064d9ac0eb"
      },
      "source": [
        "#4 out 7 consonants\n",
        "\n",
        "def fact(n):\n",
        " if n==0:\n",
        "   return 1\n",
        " else:\n",
        "   return n*fact(n-1)\n",
        "n= int(input(\"enter total :\"))\n",
        "r=int(input(\"enter allowed :\"))\n",
        "c= fact(n)/(fact(r)*fact(n-r))\n",
        "print(c)"
      ],
      "execution_count": null,
      "outputs": [
        {
          "output_type": "stream",
          "text": [
            "enter total :7\n",
            "enter allowed :4\n",
            "35.0\n"
          ],
          "name": "stdout"
        }
      ]
    },
    {
      "cell_type": "code",
      "metadata": {
        "colab": {
          "base_uri": "https://localhost:8080/"
        },
        "id": "R6OAuYYhgRWw",
        "outputId": "cee66948-9dc0-4ca4-9308-1d7d9f150902"
      },
      "source": [
        "#2 out of 4 vowels\n",
        "\n",
        "def fact(n):\n",
        " if n==0:\n",
        "   return 1\n",
        " else:\n",
        "   return n*fact(n-1)\n",
        "n= int(input(\"enter total :\"))\n",
        "r=int(input(\"enter allowed :\"))\n",
        "c= fact(n)/(fact(r)*fact(n-r))\n",
        "print(c)"
      ],
      "execution_count": null,
      "outputs": [
        {
          "output_type": "stream",
          "text": [
            "enter total :4\n",
            "enter allowed :2\n",
            "6.0\n"
          ],
          "name": "stdout"
        }
      ]
    },
    {
      "cell_type": "code",
      "metadata": {
        "colab": {
          "base_uri": "https://localhost:8080/"
        },
        "id": "uZFO9R1jf-uQ",
        "outputId": "c4cac87e-a12f-4c97-9df8-86769052190c"
      },
      "source": [
        "#4 out of 7 consonants and 2 out of 4 vowels\n",
        "\n",
        "def fact(n):\n",
        " if n==0:\n",
        "   return 1\n",
        " else:\n",
        "   return n*fact(n-1)\n",
        "n= int(input(\"enter total conso :\"))\n",
        "r=int(input(\"enter allowed :\"))\n",
        "a= int(input(\"enter total vowels :\"))\n",
        "b=int(input(\"enter allowed vowels :\"))\n",
        "c= fact(n)/(fact(r)*fact(n-r))*fact(a)/(fact(b)*fact(a-b))\n",
        "print(c)"
      ],
      "execution_count": null,
      "outputs": [
        {
          "output_type": "stream",
          "text": [
            "enter total conso :7\n",
            "enter allowed :4\n",
            "enter total vowels :4\n",
            "enter allowed vowels :2\n",
            "210.0\n"
          ],
          "name": "stdout"
        }
      ]
    }
  ]
}