{
  "nbformat": 4,
  "nbformat_minor": 0,
  "metadata": {
    "colab": {
      "name": "Exp 6(18).ipynb",
      "provenance": [],
      "authorship_tag": "ABX9TyMkpYHQfkJxdC643h6uhfRo",
      "include_colab_link": true
    },
    "kernelspec": {
      "name": "python3",
      "display_name": "Python 3"
    },
    "language_info": {
      "name": "python"
    }
  },
  "cells": [
    {
      "cell_type": "markdown",
      "metadata": {
        "id": "view-in-github",
        "colab_type": "text"
      },
      "source": [
        "<a href=\"https://colab.research.google.com/github/12191010101018Sarfaraz/CODING-SEM-V/blob/main/Exp_6(18).ipynb\" target=\"_parent\"><img src=\"https://colab.research.google.com/assets/colab-badge.svg\" alt=\"Open In Colab\"/></a>"
      ]
    },
    {
      "cell_type": "code",
      "metadata": {
        "colab": {
          "base_uri": "https://localhost:8080/"
        },
        "id": "Zzl-VlqLC1rf",
        "outputId": "4205e7b9-7eaf-4442-87b7-36160135d79b"
      },
      "source": [
        "#1\n",
        "\n",
        "import numpy as np\n",
        "\n",
        "uni = set(np.arange(10))\n",
        "A = set(np.arange(0,9,2))\n",
        "B = set(np.arange(0,9,3))\n",
        "\n",
        "print(\"\\nUniversal Set: \",uni)\n",
        "print(\"\\nSet: \", A)\n",
        "print(\"\\nSet: \",B)\n",
        "\n",
        "A.union(B)"
      ],
      "execution_count": 1,
      "outputs": [
        {
          "output_type": "stream",
          "name": "stdout",
          "text": [
            "\n",
            "Universal Set:  {0, 1, 2, 3, 4, 5, 6, 7, 8, 9}\n",
            "\n",
            "Set:  {0, 2, 4, 6, 8}\n",
            "\n",
            "Set:  {0, 3, 6}\n"
          ]
        },
        {
          "output_type": "execute_result",
          "data": {
            "text/plain": [
              "{0, 2, 3, 4, 6, 8}"
            ]
          },
          "metadata": {},
          "execution_count": 1
        }
      ]
    },
    {
      "cell_type": "code",
      "metadata": {
        "colab": {
          "base_uri": "https://localhost:8080/"
        },
        "id": "KYSJfsyoEu3c",
        "outputId": "3673ce0d-544e-4100-a696-cc83d816b1a2"
      },
      "source": [
        "#2\n",
        "\n",
        "import numpy as np\n",
        "U=set(np.arange(10))\n",
        "A=set(np.arange(0,9,2))\n",
        "B=set(np.arange(0,9,3))\n",
        "P= A.union(B)\n",
        "Q=uni.difference(P)\n",
        "S=uni.difference(B)\n",
        "R=uni.difference(A)\n",
        "T=R.intersection(S)\n",
        "if Q==T :\n",
        "  print(\"True\")\n",
        "else:\n",
        "  print(\"false\")"
      ],
      "execution_count": 2,
      "outputs": [
        {
          "output_type": "stream",
          "name": "stdout",
          "text": [
            "True\n"
          ]
        }
      ]
    }
  ]
}