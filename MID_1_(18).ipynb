{
  "nbformat": 4,
  "nbformat_minor": 0,
  "metadata": {
    "colab": {
      "name": "MID 1 (18).ipynb",
      "provenance": [],
      "authorship_tag": "ABX9TyNn90euJhTxTTiomVOwiKIs",
      "include_colab_link": true
    },
    "kernelspec": {
      "name": "python3",
      "display_name": "Python 3"
    },
    "language_info": {
      "name": "python"
    }
  },
  "cells": [
    {
      "cell_type": "markdown",
      "metadata": {
        "id": "view-in-github",
        "colab_type": "text"
      },
      "source": [
        "<a href=\"https://colab.research.google.com/github/12191010101018Sarfaraz/CODING-SEM-V/blob/main/MID_1_(18).ipynb\" target=\"_parent\"><img src=\"https://colab.research.google.com/assets/colab-badge.svg\" alt=\"Open In Colab\"/></a>"
      ]
    },
    {
      "cell_type": "code",
      "metadata": {
        "colab": {
          "base_uri": "https://localhost:8080/"
        },
        "id": "c3FYPTmeO4e_",
        "outputId": "e682ed5d-f04f-4293-f65c-06be4f1f62c5"
      },
      "source": [
        "#A box contains N screws, K of which are defective. 2 screws are drawn at random. Find the probability that none of the two screws are defective. Solve this under these conditions      (a) without Replacement   (b) with Replacement\n",
        "\n",
        "def fact(n):\n",
        "  if n==0:\n",
        "    return 1\n",
        "  else:\n",
        "    return n*fact(n-1)\n",
        "\n",
        "N = int(input(\"Total no. of screws: \"))\n",
        "K = int(input(\"No. of defective screws: \"))\n",
        "D = int(input(\"No. of screws picked: \"))\n",
        "\n",
        "prob = round((fact(N-K)/(fact((N-K)-D)*fact(D)))/(fact(N)/((fact(N-D))*fact(D))),2)\n",
        "\n",
        "print(\"The probability of picking two perfect screws is: \", prob)"
      ],
      "execution_count": 4,
      "outputs": [
        {
          "output_type": "stream",
          "name": "stdout",
          "text": [
            "Total no. of screws: 10\n",
            "No. of defective screws: 3\n",
            "No. of screws picked: 2\n",
            "The probability of picking two perfect screws is:  0.47\n"
          ]
        }
      ]
    },
    {
      "cell_type": "code",
      "metadata": {
        "colab": {
          "base_uri": "https://localhost:8080/"
        },
        "id": "wry5MfLcV4EX",
        "outputId": "ab17ad8f-0237-4ada-b078-1b4f8e2f1f10"
      },
      "source": [
        "#2\n",
        "\n",
        "def fact(n):\n",
        "  if n==0:\n",
        "    return 1\n",
        "  else:\n",
        "    return n*fact(n-1)\n",
        "\n",
        "N = int(input(\"Total no. of screws: \"))\n",
        "K = int(input(\"No. of defective screws: \"))\n",
        "D = int(input(\"No. of screws picked: \"))4\n",
        "\n",
        "prob = round((fact(N-K)/(fact((N-K)-D)*fact(D)))/(fact(N)/((fact(N-D))*fact(D))),2)\n",
        "\n",
        "print(\"The probability of picking two perfect screws is: \", prob)"
      ],
      "execution_count": 6,
      "outputs": [
        {
          "output_type": "stream",
          "name": "stdout",
          "text": [
            "Total no. of screws: 15\n",
            "No. of defective screws: 4\n",
            "No. of screws picked: 2\n",
            "The probability of picking two perfect screws is:  0.52\n"
          ]
        }
      ]
    }
  ]
}