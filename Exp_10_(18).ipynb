{
  "nbformat": 4,
  "nbformat_minor": 0,
  "metadata": {
    "colab": {
      "name": "Exp 10 (18).ipynb",
      "provenance": [],
      "authorship_tag": "ABX9TyNL86HVOeasUpiYn46hpg9z",
      "include_colab_link": true
    },
    "kernelspec": {
      "name": "python3",
      "display_name": "Python 3"
    },
    "language_info": {
      "name": "python"
    }
  },
  "cells": [
    {
      "cell_type": "markdown",
      "metadata": {
        "id": "view-in-github",
        "colab_type": "text"
      },
      "source": [
        "<a href=\"https://colab.research.google.com/github/12191010101018Sarfaraz/CODING-SEM-V/blob/main/Exp_10_(18).ipynb\" target=\"_parent\"><img src=\"https://colab.research.google.com/assets/colab-badge.svg\" alt=\"Open In Colab\"/></a>"
      ]
    },
    {
      "cell_type": "code",
      "metadata": {
        "colab": {
          "base_uri": "https://localhost:8080/"
        },
        "id": "-2hNAij0qd8G",
        "outputId": "6c7205b9-9e55-4816-e676-17751bb315aa"
      },
      "source": [
        "#hashing using list\n",
        "\n",
        "import csv\n",
        "csd=[]\n",
        "\n",
        "with open('/content/csd.csv','r') as f:\n",
        "  for line in f:\n",
        "    token = line.split(',')\n",
        "    day = token[0]\n",
        "    price= token[1]\n",
        "    csd.append([day,price])    \n",
        "print(\"\\n\", csd)\n",
        "print(\"\\n\", csd[1])\n",
        "\n",
        "for element in csd:\n",
        "  if element[0]==\"Feb 7\":\n",
        "    print(\"\\n\", element[1])"
      ],
      "execution_count": null,
      "outputs": [
        {
          "output_type": "stream",
          "name": "stdout",
          "text": [
            "\n",
            " [['Feb 7', '180\\n'], ['Mar 2', '320\\n'], ['Apr 27', '120\\n'], ['Aug 2', '800\\n'], ['Sep 15', '310\\n'], ['Sep 24', '280']]\n",
            "\n",
            " ['Mar 2', '320\\n']\n",
            "\n",
            " 180\n",
            "\n"
          ]
        }
      ]
    }
  ]
}