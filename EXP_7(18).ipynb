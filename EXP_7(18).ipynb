{
  "nbformat": 4,
  "nbformat_minor": 0,
  "metadata": {
    "colab": {
      "name": "EXP 7(18).ipynb",
      "provenance": [],
      "authorship_tag": "ABX9TyNK+E2LTRW+o+8Fx+lPKuGP",
      "include_colab_link": true
    },
    "kernelspec": {
      "name": "python3",
      "display_name": "Python 3"
    },
    "language_info": {
      "name": "python"
    }
  },
  "cells": [
    {
      "cell_type": "markdown",
      "metadata": {
        "id": "view-in-github",
        "colab_type": "text"
      },
      "source": [
        "<a href=\"https://colab.research.google.com/github/12191010101018Sarfaraz/CODING-SEM-V/blob/main/EXP_7(18).ipynb\" target=\"_parent\"><img src=\"https://colab.research.google.com/assets/colab-badge.svg\" alt=\"Open In Colab\"/></a>"
      ]
    },
    {
      "cell_type": "code",
      "metadata": {
        "colab": {
          "base_uri": "https://localhost:8080/"
        },
        "id": "y1LQ1_lXfOef",
        "outputId": "cf934bda-6686-41a3-ad73-76b017f53173"
      },
      "source": [
        "#1\n",
        "\n",
        "def probability(a,b):\n",
        "  p=(a/b)\n",
        "  print(\"probability is :\",p)\n",
        "\n",
        "\n",
        "x=int(input(\"enter number of required outcomes :\"))\n",
        "y=int(input(\"enter total number of outcomes :\"))\n",
        "probability(x,y)\n"
      ],
      "execution_count": null,
      "outputs": [
        {
          "output_type": "stream",
          "name": "stdout",
          "text": [
            "enter number of required outcomes :1\n",
            "enter total number of outcomes :52\n",
            "probability is : 0.019230769230769232\n"
          ]
        }
      ]
    },
    {
      "cell_type": "code",
      "metadata": {
        "colab": {
          "base_uri": "https://localhost:8080/"
        },
        "id": "H5YlpYZefZlG",
        "outputId": "b3a51df5-2665-4135-c246-a58a56ca7717"
      },
      "source": [
        "#2\n",
        "\n",
        "def probability(a,b):\n",
        "  p=(a/b)\n",
        "  print(\"probability is :\",p)\n",
        "\n",
        "\n",
        "x= 13\n",
        "y= 52\n",
        "probability(x,y)"
      ],
      "execution_count": null,
      "outputs": [
        {
          "output_type": "stream",
          "name": "stdout",
          "text": [
            "probability is : 0.25\n"
          ]
        }
      ]
    },
    {
      "cell_type": "code",
      "metadata": {
        "colab": {
          "base_uri": "https://localhost:8080/"
        },
        "id": "vazSR3R1fnPB",
        "outputId": "8fc0dad6-15d8-4fba-f63e-5a8c9464635d"
      },
      "source": [
        "#3\n",
        "\n",
        "a={1,3,5}\n",
        "b={1,2,3}\n",
        "s={1,2,3,4,5,6}\n",
        "p=(len(a)+len(b) - len(a.intersection(b)))/len(s)\n",
        "print(\"probability is : \",p)"
      ],
      "execution_count": null,
      "outputs": [
        {
          "output_type": "stream",
          "name": "stdout",
          "text": [
            "probability is :  0.6666666666666666\n"
          ]
        }
      ]
    },
    {
      "cell_type": "code",
      "metadata": {
        "colab": {
          "base_uri": "https://localhost:8080/"
        },
        "id": "Jjdun2DFfoZ6",
        "outputId": "fadc8e3a-8a37-47bf-b928-e0a61e6a4c9f"
      },
      "source": [
        "#4\n",
        "\n",
        "def probability(a,b):\n",
        "  p=(a/b)\n",
        "  print(\"probability is :\",p)\n",
        "\n",
        "\n",
        "x= 1\n",
        "y= 52\n",
        "probability(x,y)"
      ],
      "execution_count": null,
      "outputs": [
        {
          "output_type": "stream",
          "name": "stdout",
          "text": [
            "probability is : 0.019230769230769232\n"
          ]
        }
      ]
    }
  ]
}